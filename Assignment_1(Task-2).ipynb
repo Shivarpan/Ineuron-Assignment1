{
 "cells": [
  {
   "cell_type": "code",
   "execution_count": 29,
   "metadata": {},
   "outputs": [
    {
     "name": "stdout",
     "output_type": "stream",
     "text": [
      "Enter the sequence of comma-seperated numbers:12,17,34,56,78,97,42,69,98\n",
      "['12', '17', '34', '56', '78', '97', '42', '69', '98']\n"
     ]
    }
   ],
   "source": [
    "#Write a program which accepts a sequence of comma-separated numbers from console and generate a list.\n",
    "\n",
    "seq=input(\"Enter the sequence of comma-seperated numbers:\")\n",
    "seq=seq.split(\",\")\n",
    "print(seq)"
   ]
  },
  {
   "cell_type": "code",
   "execution_count": 11,
   "metadata": {},
   "outputs": [
    {
     "name": "stdout",
     "output_type": "stream",
     "text": [
      "*\r\n",
      "**\r\n",
      "***\r\n",
      "****\r\n",
      "*****\r\n",
      "****\r\n",
      "***\r\n",
      "**\r\n",
      "*\r\n",
      "\r\n"
     ]
    }
   ],
   "source": [
    "#Create the below pattern using nested for loop in Python.\n",
    "\n",
    "for i in range(1,6):\n",
    "    for j in range(0,i):\n",
    "           print(\"*\",end=\"\")\n",
    "    print(\"\\r\")  \n",
    "\n",
    "for i in range(1,6) :\n",
    "    for j in range(5,i,-1):\n",
    "        print(\"*\",end=\"\")\n",
    "    print(\"\\r\")    "
   ]
  },
  {
   "cell_type": "code",
   "execution_count": 15,
   "metadata": {},
   "outputs": [
    {
     "name": "stdout",
     "output_type": "stream",
     "text": [
      "Enter a wordineuron\n",
      "ineuron\n"
     ]
    },
    {
     "data": {
      "text/plain": [
       "'norueni'"
      ]
     },
     "execution_count": 15,
     "metadata": {},
     "output_type": "execute_result"
    }
   ],
   "source": [
    "#Write a Python program to reverse a word after accepting the input from the user\n",
    "\n",
    "word=str(input(\"Enter a word\"))\n",
    "print(word)\n",
    "word[len(word)::-1]"
   ]
  },
  {
   "cell_type": "code",
   "execution_count": 28,
   "metadata": {
    "scrolled": true
   },
   "outputs": [
    {
     "name": "stdout",
     "output_type": "stream",
     "text": [
      "WE, THE PEOPLE OF INDIA,\n",
      "      having solemnly resolved to constitute India into a SOVERGIN,\n",
      "\t    SOCIALIST, SECULAR, DEMOCRATIC REPUBLIC\n",
      "\t     and to secure to all its citizens\n"
     ]
    }
   ],
   "source": [
    "\"\"\"Write a Python Program to print the given string in the format specified in the sample output.\n",
    "WE, THE PEOPLE OF INDIA, having solemnly resolved to constitute India into a\n",
    "SOVEREIGN, SOCIALIST, SECULAR, DEMOCRATIC REPUBLIC and to secure to all its citizens\"\"\"\n",
    "\n",
    "print(\"WE, THE PEOPLE OF INDIA,\\n      having solemnly resolved to constitute India into a SOVERGIN,\\n\\t    SOCIALIST, SECULAR, DEMOCRATIC REPUBLIC\\n\\t     and to secure to all its citizens\")\n"
   ]
  }
 ],
 "metadata": {
  "kernelspec": {
   "display_name": "Python 3",
   "language": "python",
   "name": "python3"
  },
  "language_info": {
   "codemirror_mode": {
    "name": "ipython",
    "version": 3
   },
   "file_extension": ".py",
   "mimetype": "text/x-python",
   "name": "python",
   "nbconvert_exporter": "python",
   "pygments_lexer": "ipython3",
   "version": "3.7.6"
  }
 },
 "nbformat": 4,
 "nbformat_minor": 4
}
